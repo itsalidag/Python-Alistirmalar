{
 "cells": [
  {
   "cell_type": "code",
   "execution_count": 8,
   "metadata": {},
   "outputs": [],
   "source": [
    "from pyzbar import pyzbar\n",
    "from PIL import Image"
   ]
  },
  {
   "cell_type": "code",
   "execution_count": 7,
   "metadata": {},
   "outputs": [],
   "source": [
    "info = pyzbar.decode(Image.open(\"img.png\"))"
   ]
  },
  {
   "cell_type": "code",
   "execution_count": 8,
   "metadata": {},
   "outputs": [
    {
     "name": "stdout",
     "output_type": "stream",
     "text": [
      "[Decoded(data=b'Aylin COSKUN  \\nESOGU Computer Egineering', type='QRCODE', rect=Rect(left=8, top=8, width=264, height=264), polygon=[Point(x=8, y=8), Point(x=8, y=271), Point(x=272, y=272), Point(x=271, y=8)])]\n"
     ]
    }
   ],
   "source": [
    "print(info)"
   ]
  },
  {
   "cell_type": "code",
   "execution_count": 9,
   "metadata": {},
   "outputs": [
    {
     "name": "stdout",
     "output_type": "stream",
     "text": [
      "[Decoded(data=b'http://tr.wikipedia.org/wiki/QR_Code', type='QRCODE', rect=Rect(left=33, top=33, width=294, height=294), polygon=[Point(x=33, y=33), Point(x=33, y=327), Point(x=327, y=327), Point(x=327, y=33)])]\n"
     ]
    }
   ],
   "source": [
    "viki = pyzbar.decode(Image.open(\"vikipedi.jpeg\"))\n",
    "print(viki)"
   ]
  },
  {
   "cell_type": "code",
   "execution_count": 9,
   "metadata": {},
   "outputs": [],
   "source": [
    "import cv2"
   ]
  },
  {
   "cell_type": "code",
   "execution_count": 1,
   "metadata": {},
   "outputs": [],
   "source": [
    "from playsound import playsound\n",
    "def beep():\n",
    "    playsound(r\"C:\\Users\\alida\\Desktop\\biodiversity-starter\\biodiversity_starter\\beep-07.mp3\")"
   ]
  },
  {
   "cell_type": "code",
   "execution_count": 2,
   "metadata": {},
   "outputs": [],
   "source": [
    "import cv2\n",
    "from pyzbar import pyzbar\n",
    "import time\n",
    "\n",
    "prices = {\"9786052498095\" : 8, \"9786050827187\" : 18}\n",
    "\n",
    "def read_barcodes(frame):\n",
    "    barcodes = pyzbar.decode(frame)\n",
    "    for barcode in barcodes:\n",
    "        barcodes = []\n",
    "        a = 0\n",
    "        x, y , w, h = barcode.rect\n",
    "        barcode_text = barcode.data.decode('utf-8')\n",
    "        barcodes.append(barcode_text)\n",
    "        if len(barcodes) > a:\n",
    "            beep()\n",
    "            a +=1\n",
    "        print(barcode_text)\n",
    "        print(\"fiyat : \" + str(prices[barcode_text]))\n",
    "        cv2.rectangle(frame, (x, y),(x+w, y+h), (0, 255, 0), 2)\n",
    "    return frame\n",
    "\n",
    "def main():\n",
    "    camera = cv2.VideoCapture(0)\n",
    "    ret, frame = camera.read()\n",
    "    while ret:\n",
    "        ret, frame = camera.read()\n",
    "        time.sleep(5)\n",
    "        frame = read_barcodes(frame)\n",
    "        cv2.imshow('Barcode reader', frame)\n",
    "        if cv2.waitKey(1) & 0xFF == 27:\n",
    "            break\n",
    "\n",
    "    camera.release()\n",
    "    cv2.destroyAllWindows()\n",
    "\n",
    "main()"
   ]
  },
  {
   "cell_type": "code",
   "execution_count": 69,
   "metadata": {},
   "outputs": [],
   "source": [
    "from tkinter import *"
   ]
  },
  {
   "cell_type": "code",
   "execution_count": 76,
   "metadata": {},
   "outputs": [],
   "source": [
    "window = Tk()\n",
    "window.geometry(\"400x400\")\n",
    "l1 = Label(text = \"title\")\n",
    "l1.grid(row = 0, column = 0)\n",
    "b1 = Button(text=\"click me\")\n",
    "b1.grid(row=2,column = 2)\n",
    "\n",
    "window.mainloop()"
   ]
  },
  {
   "cell_type": "code",
   "execution_count": 49,
   "metadata": {},
   "outputs": [],
   "source": []
  },
  {
   "cell_type": "code",
   "execution_count": null,
   "metadata": {},
   "outputs": [],
   "source": []
  },
  {
   "cell_type": "code",
   "execution_count": null,
   "metadata": {},
   "outputs": [],
   "source": []
  }
 ],
 "metadata": {
  "kernelspec": {
   "display_name": "Python 3",
   "language": "python",
   "name": "python3"
  },
  "language_info": {
   "codemirror_mode": {
    "name": "ipython",
    "version": 3
   },
   "file_extension": ".py",
   "mimetype": "text/x-python",
   "name": "python",
   "nbconvert_exporter": "python",
   "pygments_lexer": "ipython3",
   "version": "3.7.4"
  }
 },
 "nbformat": 4,
 "nbformat_minor": 2
}
